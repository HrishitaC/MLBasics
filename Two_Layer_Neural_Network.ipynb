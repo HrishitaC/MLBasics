{
  "nbformat": 4,
  "nbformat_minor": 0,
  "metadata": {
    "colab": {
      "name": "HrishitaC_Assignment_9_Two_Layer_Neural_Network.ipynb",
      "provenance": [],
      "collapsed_sections": []
    },
    "kernelspec": {
      "display_name": "Python 3",
      "language": "python",
      "name": "python3"
    },
    "language_info": {
      "codemirror_mode": {
        "name": "ipython",
        "version": 3
      },
      "file_extension": ".py",
      "mimetype": "text/x-python",
      "name": "python",
      "nbconvert_exporter": "python",
      "pygments_lexer": "ipython3",
      "version": "3.7.4"
    }
  },
  "cells": [
    {
      "cell_type": "markdown",
      "metadata": {
        "id": "KXmQGNBWwzS1",
        "colab_type": "text"
      },
      "source": [
        "### Introduction\n",
        "- In this assignment, you will build a two layer neural network for classification from scratch using only numpy.\n",
        "- Please refer to videos on Backpropagation and one reference material shared in additional resources for the understanding required to solve this assignment"
      ]
    },
    {
      "cell_type": "code",
      "metadata": {
        "id": "DCZeHgK-xAy8",
        "colab_type": "code",
        "colab": {}
      },
      "source": [
        "\"\"\" Some functions required for testing \"\"\"\n",
        "import numpy as np\n",
        "import tensorflow.keras as keras\n",
        "import tensorflow as tf\n",
        "\n",
        "def create_model(D, H, C):\n",
        "  il = keras.layers.Input(shape=(D,))\n",
        "  hl = keras.layers.Dense(H, activation = 'relu')(il)\n",
        "  ol = keras.layers.Dense(C, activation = 'softmax')(hl)\n",
        "  model = keras.models.Model(inputs = [il], outputs = [ol])\n",
        "\n",
        "  rng = np.random.RandomState(2020)\n",
        "  model.layers[1].set_weights([rng.rand(D * H).reshape(D, H), rng.rand(H, )])\n",
        "  model.layers[2].set_weights([rng.rand(H * C).reshape(H, C), rng.rand(C, )])\n",
        "  return model\n",
        "\n",
        "def create_inputs(N, D):\n",
        "  rng = np.random.RandomState(2020)\n",
        "  return rng.rand(N * D).reshape(N, D)\n",
        "\n",
        "def set_weights_from_model(tln, test_net):\n",
        "  tln.params['W1'] = test_net.layers[1].get_weights()[0]\n",
        "  tln.params['b1'] = test_net.layers[1].get_weights()[1]\n",
        "  tln.params['W2'] = test_net.layers[2].get_weights()[0]\n",
        "  tln.params['b2'] = test_net.layers[2].get_weights()[1]\n",
        "  return tln\n"
      ],
      "execution_count": null,
      "outputs": []
    },
    {
      "cell_type": "code",
      "metadata": {
        "colab_type": "code",
        "id": "9OoL62wOux9t",
        "colab": {}
      },
      "source": [
        "import numpy as np\n",
        "import matplotlib.pyplot as plt\n",
        "\n",
        "class TwoLayerNet(object):\n",
        "    \"\"\"\n",
        "    A two-layer fully-connected neural network. The net has an input dimension of\n",
        "    D, a hidden layer dimension of H, and performs classification over C classes.\n",
        "    We train the network with a softmax loss function and L2 regularization on the\n",
        "    weight matrices. The network uses a ReLU nonlinearity after the first fully\n",
        "    connected layer.\n",
        "\n",
        "    In other words, the network has the following architecture:\n",
        "\n",
        "    input - fully connected layer - ReLU - fully connected layer - softmax\n",
        "\n",
        "    The outputs of the second fully-connected layer are the scores for each class.\n",
        "    \"\"\"\n",
        "\n",
        "    def __init__(self, input_size, hidden_size, output_size, std=1e-4):\n",
        "        \"\"\"\n",
        "        Initialize the model. \n",
        "        Weights are initialized to small random values and\n",
        "        biases are initialized to zero. \n",
        "        Weights and biases are stored in the\n",
        "        variable self.params, which is a dictionary with the following keys:\n",
        "\n",
        "        W1: First layer weights; has shape (D, H)\n",
        "        b1: First layer biases; has shape (H,)\n",
        "        W2: Second layer weights; has shape (H, C)\n",
        "        b2: Second layer biases; has shape (C,)\n",
        "\n",
        "        Inputs:\n",
        "        - input_size: The dimension N of the input data.\n",
        "        - hidden_size: The number of neurons H in the hidden layer.\n",
        "        - output_size: The number of classes C.\n",
        "        \"\"\"\n",
        "        self.params = {}\n",
        "        ### Write your code here\n",
        "        W1 = ((2*np.random.random((input_size, hidden_size)))  - 1)*0.01/2\n",
        "        b1 = np.zeros(shape = (hidden_size, ))\n",
        "        W2 = ((2*np.random.random((hidden_size, output_size))) - 1)*0.01/2\n",
        "        b2 = np.zeros(shape = (output_size, ))\n",
        "        self.params = {\n",
        "            \"W1\": W1,\n",
        "            \"b1\": b1,\n",
        "            \"W2\": W2,\n",
        "            \"b2\": b2\n",
        "        }"
      ],
      "execution_count": null,
      "outputs": []
    },
    {
      "cell_type": "code",
      "metadata": {
        "id": "9ScjBCeTwzS7",
        "colab_type": "code",
        "colab": {
          "base_uri": "https://localhost:8080/",
          "height": 34
        },
        "outputId": "d80fa825-89c5-4f4f-cda2-86ee2cf72c40"
      },
      "source": [
        "\"\"\" Test Cases for Initialization\"\"\"\n",
        "tln = TwoLayerNet(2, 3, 2)\n",
        "assert tln.params['W1'].shape == (2, 3)\n",
        "assert tln.params['b1'].shape == (3, )\n",
        "assert tln.params['W2'].shape == (3, 2)\n",
        "assert tln.params['b2'].shape == (2, )\n",
        "print('Test passed', '\\U0001F44D')"
      ],
      "execution_count": null,
      "outputs": [
        {
          "output_type": "stream",
          "text": [
            "Test passed 👍\n"
          ],
          "name": "stdout"
        }
      ]
    },
    {
      "cell_type": "code",
      "metadata": {
        "colab_type": "code",
        "id": "kh8LRCT9voz1",
        "colab": {}
      },
      "source": [
        "class TwoLayerNet(TwoLayerNet):\n",
        "\n",
        "    def forward(self, X):\n",
        "      \"\"\"\n",
        "      Compute the output of a full forward pass of the network.\n",
        "      \n",
        "      First apply weights W1 and biases b1 on inputs and then apply relu non-linearity.\n",
        "      Then apply weights W2 and biases b2 on hidden layer values and then apply softmax non-linearity to get the output\n",
        "      \n",
        "      Inputs:\n",
        "      - X : Input data of shape (N, D). Each X[i] is a training sample\n",
        "      \n",
        "      Outputs:\n",
        "      - y_out : numpy array with Outputs of shape (N, C)\n",
        "      \n",
        "      \"\"\"\n",
        "      ### Write your code here\n",
        "      W1 = self.params[\"W1\"]\n",
        "      W2 = self.params[\"W2\"]\n",
        "      b1 = self.params[\"b1\"]\n",
        "      b2 = self.params[\"b2\"]\n",
        "\n",
        "      v1 = np.dot(X, W1) + b1\n",
        "      h1 = np.maximum(v1, 0)\n",
        "      v2 = np.dot(h1, W2) + b2\n",
        "      h2 = np.zeros((v2.shape[0],v2.shape[1]))\n",
        "      for i in range(v2.shape[0]):\n",
        "        h2[i] = (np.exp(v2[i])/sum(np.exp(v2[i])))\n",
        "      y_out = h2\n",
        "      return y_out"
      ],
      "execution_count": null,
      "outputs": []
    },
    {
      "cell_type": "code",
      "metadata": {
        "id": "rJeXhkRZwzTD",
        "colab_type": "code",
        "colab": {
          "base_uri": "https://localhost:8080/",
          "height": 34
        },
        "outputId": "878a314d-5987-4a04-d128-aa274b25ca5a"
      },
      "source": [
        "\"\"\"Test Cases for Forward pass\"\"\"\n",
        "tln = TwoLayerNet(2, 4, 2)\n",
        "test_net = create_model(2, 4, 2)\n",
        "tln = set_weights_from_model(tln, test_net)\n",
        "X = create_inputs(4, 2)\n",
        "y_forward = tln.forward(X)\n",
        "assert y_forward.shape == (4, 2)\n",
        "assert np.all(np.isclose(y_forward, test_net.predict(X), atol = 0.0001))\n",
        "print('Test passed', '\\U0001F44D')"
      ],
      "execution_count": null,
      "outputs": [
        {
          "output_type": "stream",
          "text": [
            "Test passed 👍\n"
          ],
          "name": "stdout"
        }
      ]
    },
    {
      "cell_type": "code",
      "metadata": {
        "id": "tbOelhQCwzTH",
        "colab_type": "code",
        "colab": {}
      },
      "source": [
        "class TwoLayerNet(TwoLayerNet):\n",
        "    def predict(self, X):\n",
        "        \"\"\"\n",
        "        Use the trained weights of this two-layer network to predict labels for\n",
        "        data points. For each data point we predict scores for each of the C\n",
        "        classes, and assign each data point to the class with the highest score.\n",
        "\n",
        "        Inputs:\n",
        "        - X: A numpy array of shape (N, D) giving N D-dimensional data points to\n",
        "          classify.\n",
        "\n",
        "        Returns:\n",
        "        - y_pred: A numpy array of shape (N,) giving predicted labels for each of\n",
        "          the elements of X. For all i, y_pred[i] = c means that X[i] is predicted\n",
        "          to have class c, where 0 <= c < C.\n",
        "        \"\"\"\n",
        "        y_pred = None\n",
        "\n",
        "        ###########################################################################\n",
        "        # TODO: Implement this function; it should be VERY simple!                #\n",
        "        ###########################################################################\n",
        "        # *****START OF YOUR CODE (DO NOT DELETE/MODIFY THIS LINE)*****\n",
        "\n",
        "        ### Write your code here\n",
        "        y_pred = []\n",
        "        y_out = self.forward(X)\n",
        "        for i in range(y_out.shape[0]):\n",
        "          y_pred.append(np.argmax(y_out[i]))\n",
        "        y_pred = np.asarray(y_pred, dtype=np.int_)\n",
        "        return y_pred\n"
      ],
      "execution_count": null,
      "outputs": []
    },
    {
      "cell_type": "code",
      "metadata": {
        "id": "AAJuwv5bwzTK",
        "colab_type": "code",
        "colab": {
          "base_uri": "https://localhost:8080/",
          "height": 34
        },
        "outputId": "dae69181-235b-4c4f-e2eb-e454a43d2b15"
      },
      "source": [
        "\"\"\" Test Cases for predict\"\"\"\n",
        "tln = TwoLayerNet(2, 4, 2)\n",
        "test_net = create_model(2, 4, 2)\n",
        "tln = set_weights_from_model(tln, test_net)\n",
        "X = create_inputs(4, 2)\n",
        "y_pred = tln.predict(X)\n",
        "test_pred = np.argmax(test_net.predict(X), axis = 1)\n",
        "assert np.all(np.isclose(y_pred, test_pred, atol = 0.01))\n",
        "print('Test passed', '\\U0001F44D')"
      ],
      "execution_count": null,
      "outputs": [
        {
          "output_type": "stream",
          "text": [
            "Test passed 👍\n"
          ],
          "name": "stdout"
        }
      ]
    },
    {
      "cell_type": "markdown",
      "metadata": {
        "id": "tabhV02TwzTO",
        "colab_type": "text"
      },
      "source": [
        "#### Loss\n",
        "Note: <br>\n",
        "$L = -\\sum{t_i \\log{p_i}}$ <br>\n",
        "where $p_i$ is probability score predicted by model. <br>\n",
        "$t_i = 0$ for the true class $i$ and $t_i = 1$ for all other classes for a particular sample."
      ]
    },
    {
      "cell_type": "code",
      "metadata": {
        "id": "7mO3-DSCwzTO",
        "colab_type": "code",
        "colab": {}
      },
      "source": [
        "class TwoLayerNet(TwoLayerNet):    \n",
        "    def loss(self, X, y=None):\n",
        "        \"\"\"\n",
        "        Compute the loss and gradients for a two layer fully connected neural\n",
        "        network.\n",
        "\n",
        "        Inputs:\n",
        "        - X: Input data of shape (N, D). Each X[i] is a training sample.\n",
        "        - y: Vector of training labels. y[i] is the label for X[i], and each y[i] is\n",
        "          an integer in the range 0 <= y[i] < C.\n",
        "\n",
        "\n",
        "        Returns:\n",
        "        If y is None, return a matrix scores of shape (N, C) where scores[i, c] is\n",
        "        the score for class c on input X[i].\n",
        "\n",
        "        If y is not None, instead return a tuple of:\n",
        "        - loss: Loss (data loss and regularization loss) for this batch of training\n",
        "          samples. (This is the mean loss over N samples)\n",
        "        - grads: Dictionary mapping parameter names to gradients of those parameters\n",
        "          with respect to the loss function; has the same keys as self.params.\n",
        "        \"\"\"\n",
        "        # Unpack variables from the params dictionary\n",
        "        W1, b1 = self.params['W1'], self.params['b1']\n",
        "        W2, b2 = self.params['W2'], self.params['b2']\n",
        "        N, D = X.shape\n",
        "        H, C = W2.shape\n",
        "        \n",
        "        # Compute the forward pass\n",
        "        scores = None\n",
        "        #############################################################################\n",
        "        # TODO: Perform the forward pass, computing the class scores for the input. #\n",
        "        # Store the result in the scores variable, which should be an array of      #\n",
        "        # shape (N, C).                                                             #\n",
        "        #############################################################################\n",
        "        \n",
        "        \n",
        "        \n",
        "        ## Write your code here\n",
        "        \n",
        "        v1 = np.dot(X, W1) + b1\n",
        "        h1 = np.maximum(v1, 0)\n",
        "        v2 = np.dot(h1, W2) + b2\n",
        "        h2 = []\n",
        "        for i in range(v2.shape[0]):\n",
        "          h2.append(np.exp(v2[i])/sum(np.exp(v2[i])))\n",
        "        scores = np.asarray(h2)\n",
        "\n",
        "        y = np.asarray(y)\n",
        "        if(y.all()==None):\n",
        "          return scores\n",
        "        \n",
        "        # # Compute the loss\n",
        "        loss = None\n",
        "\n",
        "        \n",
        "        #############################################################################\n",
        "        # TODO: Finish the forward pass, and compute the loss. This should include  #\n",
        "        # both the data loss and L2 regularization for W1 and W2. Store the result  #\n",
        "        # in the variable loss, which should be a scalar. Use the Categorical       #\n",
        "        # Cross Entropy loss.                                                       #\n",
        "        #############################################################################\n",
        "      \n",
        "        ### Write your code here\n",
        "\n",
        "        t_i = np.zeros((N,C), dtype=np.int_)\n",
        "        for i in range(N):\n",
        "          for j in range(C):\n",
        "            if (j==y[i]):\n",
        "              t_i[i,j] = 1\n",
        "\n",
        "        data_loss = np.sum(np.sum(t_i*np.log(scores)))\n",
        "\n",
        "        data_loss = -data_loss/N\n",
        "        lam = 0.001\n",
        "\n",
        "        l2 = (lam/(2*N) * np.sum(W1** 2)) + (lam/(2*N) * np.sum(W2 ** 2))\n",
        "\n",
        "        loss = data_loss #+ l2\n",
        "\n",
        "        # Backward pass: compute gradients\n",
        "        grads = {}\n",
        "        \n",
        "        #############################################################################\n",
        "        # TODO: Compute the backward pass, computing the derivatives of the weights #\n",
        "        # and biases. Store the results in the grads dictionary. For example,       #\n",
        "        # grads['W1'] should store the gradient on W1, and be a matrix of same size #\n",
        "        #############################################################################\n",
        "        \n",
        "        ### Write your code here\n",
        "\n",
        "        output_error = (scores-t_i)/scores.shape[0] #dl/d(softmax) = (pi - yi)/N\n",
        "        grad_W2 = np.dot(h1.T, output_error)\n",
        "        grad_b2 = np.sum(output_error, axis=0)\n",
        "        hidden_error = np.dot((scores-t_i)/scores.shape[0], W2.T)\n",
        "        grad_W1 = np.dot(X.T, hidden_error)\n",
        "        grad_b1 = np.sum(hidden_error, axis=0)\n",
        "\n",
        "        grads = {\n",
        "            \"W1\": grad_W1,\n",
        "            \"b1\": grad_b1,\n",
        "            \"W2\": grad_W2,\n",
        "            \"b2\": grad_b2\n",
        "        }\n",
        "\n",
        "        return loss, grads"
      ],
      "execution_count": null,
      "outputs": []
    },
    {
      "cell_type": "code",
      "metadata": {
        "id": "zn1tAYrpwzTS",
        "colab_type": "code",
        "colab": {
          "base_uri": "https://localhost:8080/",
          "height": 34
        },
        "outputId": "a43d3f7e-0470-438a-ceef-2d9f439913bb"
      },
      "source": [
        "\"\"\" Tests for loss and gradient computation \"\"\"\n",
        "### First compute loss and gradients using keras\n",
        "model = create_model(2, 4, 2)\n",
        "X = create_inputs(4, 2)\n",
        "y = np.array([0, 1, 1, 0])\n",
        "y_onehot = keras.utils.to_categorical(y, 2)\n",
        "\n",
        "optimizer = keras.optimizers.SGD(learning_rate=1e-3, momentum=0.0, nesterov=False, name=\"SGD\")\n",
        "loss_fn = keras.losses.CategoricalCrossentropy()\n",
        "batch_size = 4\n",
        "train_dataset = tf.data.Dataset.from_tensor_slices((X, y_onehot))\n",
        "train_dataset = train_dataset.batch(batch_size)\n",
        "epochs = 1\n",
        "for epoch in range(epochs):\n",
        "  for step, (x_batch_train, y_batch_train) in enumerate(train_dataset):\n",
        "    with tf.GradientTape() as tape:\n",
        "      y_out = model(x_batch_train, training = True)\n",
        "\n",
        "      ## Compute loss value for this minibatch\n",
        "      loss_value = loss_fn(y_batch_train, y_out)\n",
        "    \n",
        "    grads_model = {}\n",
        "    grads_model['W1'], grads_model['b1'], grads_model['W2'], grads_model['b2'] = [dw.numpy() for dw in tape.gradient(loss_value, model.trainable_weights)]\n",
        "\n",
        "### Compute loss and gradients using TwoLayerNet\n",
        "tln = TwoLayerNet(2, 4, 2)\n",
        "tln = set_weights_from_model(tln, model)\n",
        "loss, grads_tln = tln.loss(X, y)\n",
        "\n",
        "#### Now match\n",
        "## Loss should be correctly computed\n",
        "assert np.isclose(loss, loss_value.numpy(), atol = 0.0001)\n",
        "\n",
        "## Gradients should be correctly computed\n",
        "assert np.all(np.isclose(grads_tln['W1'], grads_model['W1'], atol = 0.0001))\n",
        "assert np.all(np.isclose(grads_tln['b1'], grads_model['b1'], atol = 0.0001))\n",
        "assert np.all(np.isclose(grads_tln['W2'], grads_model['W2'], atol = 0.0001))\n",
        "assert np.all(np.isclose(grads_tln['b2'], grads_model['b2'], atol = 0.0001))\n",
        "\n",
        "print('Test passed', '\\U0001F44D')"
      ],
      "execution_count": null,
      "outputs": [
        {
          "output_type": "stream",
          "text": [
            "Test passed 👍\n"
          ],
          "name": "stdout"
        }
      ]
    },
    {
      "cell_type": "markdown",
      "metadata": {
        "id": "ANJB4KJni0ME",
        "colab_type": "text"
      },
      "source": [
        "### Training"
      ]
    },
    {
      "cell_type": "code",
      "metadata": {
        "id": "UyIYI5btwzTV",
        "colab_type": "code",
        "colab": {}
      },
      "source": [
        "class TwoLayerNet(TwoLayerNet):\n",
        "    def train(self, X, y, X_val, y_val,\n",
        "              learning_rate=1e-3, num_iters=100,\n",
        "              batch_size=200, verbose=False):\n",
        "        \"\"\"\n",
        "        Train this neural network using stochastic gradient descent.\n",
        "\n",
        "        Inputs:\n",
        "        - X: A numpy array of shape (N, D) giving training data.\n",
        "        - y: A numpy array f shape (N,) giving training labels; y[i] = c means that\n",
        "          X[i] has label c, where 0 <= c < C.\n",
        "        - X_val: A numpy array of shape (N_val, D) giving validation data.\n",
        "        - y_val: A numpy array of shape (N_val,) giving validation labels.\n",
        "        - learning_rate: Scalar giving learning rate for optimization.\n",
        "        - num_iters: Number of steps to take when optimizing.\n",
        "        - batch_size: Number of training examples to use per step.\n",
        "        \"\"\"\n",
        "        num_train = X.shape[0]\n",
        "        iterations_per_epoch = max(num_train / batch_size, 1)\n",
        "\n",
        "        # Use SGD to optimize the parameters in self.model\n",
        "        loss_history = []\n",
        "        train_acc_history = []\n",
        "        val_acc_history = []\n",
        "\n",
        "        np.random.shuffle(X)\n",
        "        state = np.random.get_state()\n",
        "        np.random.set_state(state)\n",
        "        np.random.shuffle(y)\n",
        "\n",
        "        for it in range(num_iters):\n",
        "              X_batch = None\n",
        "              y_batch = None\n",
        "\n",
        "            #########################################################################\n",
        "            # TODO: Create a random minibatch of training data and labels, storing  #\n",
        "            # them in X_batch and y_batch respectively.                             #\n",
        "            #########################################################################\n",
        "\n",
        "            \n",
        "            ### Write your code here\n",
        "            \n",
        "              start = (num_iters * batch_size)%X.shape[0]\n",
        "              X_batch = X[start: start+batch_size]\n",
        "              y_batch = y[start: start+batch_size]\n",
        "\n",
        "\n",
        "              # Compute loss and gradients using the current minibatch\n",
        "              loss, grads = self.loss(X=X_batch, y=y_batch)\n",
        "              loss_history.append(loss)\n",
        "              # print(loss)\n",
        "\n",
        "            #########################################################################\n",
        "            # TODO: Use the gradients in the grads dictionary to update the         #\n",
        "            # parameters of the network (stored in the dictionary self.params)      #\n",
        "            # using stochastic gradient descent. You'll need to use the gradients   #\n",
        "            # stored in the grads dictionary defined above.                         #\n",
        "            #########################################################################\n",
        "\n",
        "            \n",
        "              ### Write your code here\n",
        "              self.params[\"W1\"] -= (learning_rate * grads[\"W1\"])\n",
        "              self.params[\"b1\"] -= (learning_rate * grads[\"b1\"])\n",
        "              self.params[\"W2\"] -= (learning_rate * grads[\"W2\"])\n",
        "              self.params[\"b2\"] -= (learning_rate * grads[\"b2\"])\n",
        "            # Every epoch, check train and val accuracy\n",
        "              if it % iterations_per_epoch == 0:\n",
        "                # Check accuracy\n",
        "\n",
        "                train_acc = (self.predict(X_batch) == y_batch).mean()\n",
        "                val_acc = (self.predict(X_val) == y_val).mean()\n",
        "                train_acc_history.append(train_acc)\n",
        "                val_acc_history.append(val_acc)\n",
        "\n",
        "                # Decay learning rate\n",
        "                learning_rate *= 1\n",
        "\n",
        "        return {\n",
        "          'loss_history': loss_history,\n",
        "          'train_acc_history': train_acc_history,\n",
        "          'val_acc_history': val_acc_history,\n",
        "        }\n"
      ],
      "execution_count": null,
      "outputs": []
    },
    {
      "cell_type": "markdown",
      "metadata": {
        "id": "tYEfUA1nmCju",
        "colab_type": "text"
      },
      "source": [
        "### Using these networks on datasets"
      ]
    },
    {
      "cell_type": "markdown",
      "metadata": {
        "id": "MsACefMSmFX0",
        "colab_type": "text"
      },
      "source": [
        "### XOR\n",
        "Use TwoLayerNet to train the XOR function discussed in the class"
      ]
    },
    {
      "cell_type": "code",
      "metadata": {
        "id": "MeUsLKYEwzTY",
        "colab_type": "code",
        "colab": {
          "base_uri": "https://localhost:8080/",
          "height": 319
        },
        "outputId": "9c306ba5-9f1c-44aa-f9b8-51ebd39d69cd"
      },
      "source": [
        "### Write your code here\n",
        "\n",
        "X = np.array([\n",
        "              [0,0,0],\n",
        "              [0,0,1],\n",
        "              [0,1,0],\n",
        "              [0,1,1],\n",
        "              [1,0,0],\n",
        "              [1,0,1],\n",
        "              [1,1,0],\n",
        "              [1,1,1]\n",
        "])\n",
        "\n",
        "y = np.array([0,1,1,0,1,0,0,1])\n",
        "\n",
        "np.random.shuffle(X)\n",
        "state = np.random.get_state()\n",
        "np.random.set_state(state)\n",
        "np.random.shuffle(y)\n",
        "\n",
        "X_train, X_val = X[:6], X[6:]\n",
        "y_train, y_val = y[:6], y[6:]\n",
        "\n",
        "xor_net = TwoLayerNet(3, 5, 2)\n",
        "\n",
        "results = xor_net.train(X_train, y_train, X_val, y_val,\n",
        "              learning_rate=0.01, num_iters=10000,\n",
        "              batch_size=4, verbose=False)\n",
        "\n",
        "import matplotlib.pyplot as plt\n",
        "plt.plot(results['loss_history'])\n",
        "print(results['loss_history'][-10:])\n",
        "xor_net.predict(X)"
      ],
      "execution_count": null,
      "outputs": [
        {
          "output_type": "stream",
          "text": [
            "[0.09931287050361885, 0.09931934106132823, 0.09932581182589902, 0.09933228279718062, 0.09933875397502256, 0.09934522535927462, 0.09935169694978627, 0.09935816874640727, 0.09936464074898765, 0.0993711129573771]\n"
          ],
          "name": "stdout"
        },
        {
          "output_type": "execute_result",
          "data": {
            "text/plain": [
              "array([1, 1, 0, 1, 1, 0, 1, 1])"
            ]
          },
          "metadata": {
            "tags": []
          },
          "execution_count": 62
        },
        {
          "output_type": "display_data",
          "data": {
            "image/png": "[encoded data removed]",
            "text/plain": [
              "<Figure size 432x288 with 1 Axes>"
            ]
          },
          "metadata": {
            "tags": [],
            "needs_background": "light"
          }
        }
      ]
    },
    {
      "cell_type": "markdown",
      "metadata": {
        "id": "D3D4GjcImFbW",
        "colab_type": "text"
      },
      "source": [
        "### Iris\n",
        "Use TwoLayerNet to train the iris dataset. Choose 120 samples randomly for training and the rest for testing"
      ]
    },
    {
      "cell_type": "code",
      "metadata": {
        "id": "jSjLcJT1mX-9",
        "colab_type": "code",
        "colab": {
          "base_uri": "https://localhost:8080/",
          "height": 302
        },
        "outputId": "f77f30ae-bcda-4027-faa5-e1aad10bb26a"
      },
      "source": [
        "### Write your code here\n",
        "from sklearn.datasets import load_iris\n",
        "import pandas as pd\n",
        "\n",
        "data, target = load_iris(return_X_y=True)\n",
        "\n",
        "np.random.shuffle(data)\n",
        "state = np.random.get_state()\n",
        "np.random.set_state(state)\n",
        "np.random.shuffle(target)\n",
        "\n",
        "data_train = data[:120]\n",
        "target_train = target[:120]\n",
        "\n",
        "data_test = data[120:]\n",
        "target_test = target[120:]\n",
        "\n",
        "iris_net = TwoLayerNet(4, 64, 3)\n",
        "results = iris_net.train(data_train, target_train, data_test, target_test,\n",
        "              learning_rate=0.05, num_iters=4000,\n",
        "              batch_size=60, verbose=False)\n",
        "\n",
        "import matplotlib.pyplot as plt\n",
        "plt.plot(results['loss_history'])\n",
        "print(results['loss_history'][-10:])"
      ],
      "execution_count": null,
      "outputs": [
        {
          "output_type": "stream",
          "text": [
            "[1.0260511822368723, 1.026051116446566, 1.0260510767093336, 1.0260510436969077, 1.0260510140767156, 1.0260509874930548, 1.026050964414644, 1.0260509444462476, 1.0260509279535979, 1.0260509145604926]\n"
          ],
          "name": "stdout"
        },
        {
          "output_type": "display_data",
          "data": {
            "image/png": "[encoded data removed]",
            "text/plain": [
              "<Figure size 432x288 with 1 Axes>"
            ]
          },
          "metadata": {
            "tags": [],
            "needs_background": "light"
          }
        }
      ]
    },
    {
      "cell_type": "markdown",
      "metadata": {
        "id": "xbFD9EXlmaDI",
        "colab_type": "text"
      },
      "source": [
        "### Advanced\n",
        "Add weight regularization to the loss and rewrite backprop part of TwoLayerNet. <br>\n",
        "Train using some datasets and see if regularized network performs better than its older counterpart.\n",
        "<br>\n",
        "The expression for loss with regularization is as follows - <br>\n",
        "$L = -\\sum{t_i \\log{p_i}} + \\lambda(|w_1|^2 + |w_2|^2)$ <br>\n",
        "$\\lambda$ is a tunable hyper-parameter  denoting strength of regularization. <br>\n",
        "If it is too high, network will struggle to fit, and if it is too low, network will overfit."
      ]
    },
    {
      "cell_type": "code",
      "metadata": {
        "id": "DBAJhyB9oB8M",
        "colab_type": "code",
        "colab": {}
      },
      "source": [
        "### Write your code here\n",
        "class TwoLayerNet(TwoLayerNet):    \n",
        "    def loss(self, X, y=None):\n",
        "        \"\"\"\n",
        "        Compute the loss and gradients for a two layer fully connected neural\n",
        "        network.\n",
        "\n",
        "        Inputs:\n",
        "        - X: Input data of shape (N, D). Each X[i] is a training sample.\n",
        "        - y: Vector of training labels. y[i] is the label for X[i], and each y[i] is\n",
        "          an integer in the range 0 <= y[i] < C.\n",
        "\n",
        "\n",
        "        Returns:\n",
        "        If y is None, return a matrix scores of shape (N, C) where scores[i, c] is\n",
        "        the score for class c on input X[i].\n",
        "\n",
        "        If y is not None, instead return a tuple of:\n",
        "        - loss: Loss (data loss and regularization loss) for this batch of training\n",
        "          samples. (This is the mean loss over N samples)\n",
        "        - grads: Dictionary mapping parameter names to gradients of those parameters\n",
        "          with respect to the loss function; has the same keys as self.params.\n",
        "        \"\"\"\n",
        "        # Unpack variables from the params dictionary\n",
        "        W1, b1 = self.params['W1'], self.params['b1']\n",
        "        W2, b2 = self.params['W2'], self.params['b2']\n",
        "        N, D = X.shape\n",
        "        H, C = W2.shape\n",
        "        \n",
        "        # Compute the forward pass\n",
        "        scores = None\n",
        "        #############################################################################\n",
        "        # TODO: Perform the forward pass, computing the class scores for the input. #\n",
        "        # Store the result in the scores variable, which should be an array of      #\n",
        "        # shape (N, C).                                                             #\n",
        "        #############################################################################\n",
        "        \n",
        "        \n",
        "        \n",
        "        ## Write your code here\n",
        "        \n",
        "        v1 = np.dot(X, W1) + b1\n",
        "        h1 = np.maximum(v1, 0)\n",
        "        v2 = np.dot(h1, W2) + b2\n",
        "        h2 = []\n",
        "        for i in range(v2.shape[0]):\n",
        "          h2.append(np.exp(v2[i])/sum(np.exp(v2[i])))\n",
        "        scores = np.asarray(h2)\n",
        "\n",
        "        if(y.all()==None):\n",
        "          return scores\n",
        "        \n",
        "        # # Compute the loss\n",
        "        loss = None\n",
        "\n",
        "        \n",
        "        #############################################################################\n",
        "        # TODO: Finish the forward pass, and compute the loss. This should include  #\n",
        "        # both the data loss and L2 regularization for W1 and W2. Store the result  #\n",
        "        # in the variable loss, which should be a scalar. Use the Categorical       #\n",
        "        # Cross Entropy loss.                                                       #\n",
        "        #############################################################################\n",
        "      \n",
        "        ### Write your code here\n",
        "\n",
        "        t_i = np.zeros((N,C), dtype=np.int_)\n",
        "        for i in range(N):\n",
        "          for j in range(C):\n",
        "            if (j==y[i]):\n",
        "              t_i[i,j] = 1\n",
        "\n",
        "        data_loss = np.sum(np.sum(t_i*np.log(scores)))\n",
        "\n",
        "        data_loss = -data_loss/N\n",
        "        lam = 0.001\n",
        "\n",
        "        l2 = (lam * np.sum(W1** 2)) + (lam * np.sum(W2 ** 2))\n",
        "\n",
        "        loss = data_loss + l2\n",
        "\n",
        "        # Backward pass: compute gradients\n",
        "        grads = {}\n",
        "        \n",
        "        #############################################################################\n",
        "        # TODO: Compute the backward pass, computing the derivatives of the weights #\n",
        "        # and biases. Store the results in the grads dictionary. For example,       #\n",
        "        # grads['W1'] should store the gradient on W1, and be a matrix of same size #\n",
        "        #############################################################################\n",
        "        \n",
        "        ### Write your code here\n",
        "\n",
        "        output_error = (scores-t_i)/scores.shape[0] #dl/d(softmax) = (pi - yi)/N\n",
        "        grad_W2 = np.dot(h1.T, output_error)\n",
        "        grad_b2 = np.sum(output_error, axis=0)\n",
        "        hidden_error = np.dot((scores-t_i)/scores.shape[0], W2.T)\n",
        "        grad_W1 = np.dot(X.T, hidden_error)\n",
        "        grad_b1 = np.sum(np.dot(X.T, hidden_error), axis=0)\n",
        "\n",
        "        grads = {\n",
        "            \"W1\": grad_W1,\n",
        "            \"b1\": grad_b1,\n",
        "            \"W2\": grad_W2,\n",
        "            \"b2\": grad_b2\n",
        "        }\n",
        "\n",
        "        return loss, grads"
      ],
      "execution_count": null,
      "outputs": []
    },
    {
      "cell_type": "code",
      "metadata": {
        "id": "vZBgaO1dwQGM",
        "colab_type": "code",
        "colab": {}
      },
      "source": [
        ""
      ],
      "execution_count": null,
      "outputs": []
    }
  ]
}