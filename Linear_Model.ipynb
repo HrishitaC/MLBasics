{
  "nbformat": 4,
  "nbformat_minor": 0,
  "metadata": {
    "colab": {
      "name": "Linear Model.ipynb",
      "provenance": [],
      "collapsed_sections": []
    },
    "language_info": {
      "codemirror_mode": {
        "name": "ipython",
        "version": 3
      },
      "file_extension": ".py",
      "mimetype": "text/x-python",
      "name": "python",
      "nbconvert_exporter": "python",
      "pygments_lexer": "ipython3",
      "version": "3.6.8"
    },
    "kernelspec": {
      "display_name": "Python 3",
      "language": "python",
      "name": "python3"
    }
  },
  "cells": [
    {
      "cell_type": "markdown",
      "metadata": {
        "colab_type": "text",
        "id": "v_FCTVE5SeoZ"
      },
      "source": [
        "# Function Approximation with a Linear Model\n",
        "$y=f(x)=\\sin x$ <br />\n",
        "Approximate this function with a linear function of the form <br />\n",
        "$y = w_0 + w_1 x + w_2 x^2$ <br />\n",
        "in the range $x\\in(0,2\\pi)$"
      ]
    },
    {
      "cell_type": "code",
      "metadata": {
        "colab_type": "code",
        "id": "O6bDaX3HSeod",
        "colab": {}
      },
      "source": [
        "import numpy as np"
      ],
      "execution_count": null,
      "outputs": []
    },
    {
      "cell_type": "markdown",
      "metadata": {
        "colab_type": "text",
        "id": "2FNjNtG_Seon"
      },
      "source": [
        "### Generate data"
      ]
    },
    {
      "cell_type": "code",
      "metadata": {
        "colab_type": "code",
        "deletable": false,
        "id": "x-qd7ulwSeor",
        "nbgrader": {
          "checksum": "c56e81e6f580ac51b67dff240b2b0716",
          "grade": false,
          "grade_id": "cell-42de5e80af6ec099",
          "locked": false,
          "schema_version": 1,
          "solution": true
        },
        "colab": {}
      },
      "source": [
        "def fx(x):\n",
        "    '''\n",
        "    Input:\n",
        "        x: float (scalar) or np array\n",
        "    Output:\n",
        "        y: float (scalar) or np array; y=f(x)=sin(x)\n",
        "        \n",
        "    HINT: Use web search on how to take sine in numpy\n",
        "    '''\n",
        "    # YOUR CODE HERE\n",
        "    y = np.sin(x)\n",
        "    return y"
      ],
      "execution_count": null,
      "outputs": []
    },
    {
      "cell_type": "code",
      "metadata": {
        "colab_type": "code",
        "deletable": false,
        "editable": false,
        "id": "P2jr7gtUSeow",
        "nbgrader": {
          "checksum": "a70047c1b2c6de2a8380d1c152b26d5a",
          "grade": true,
          "grade_id": "cell-f27e4f64b287cd94",
          "locked": true,
          "points": 1,
          "schema_version": 1,
          "solution": false
        },
        "colab": {
          "base_uri": "https://localhost:8080/",
          "height": 34
        },
        "outputId": "4088ccb9-9d84-417d-98d3-e4dff96ba324"
      },
      "source": [
        "'''Testing'''\n",
        "def test_fx():\n",
        "    assert fx(0)==0\n",
        "    assert np.isclose(fx(np.pi/2), 1, atol=0.001)\n",
        "    assert np.isclose(fx(np.pi/4), 0.707, atol=0.001)\n",
        "    print('Test passed', '\\U0001F44D')\n",
        "test_fx()"
      ],
      "execution_count": null,
      "outputs": [
        {
          "output_type": "stream",
          "text": [
            "Test passed 👍\n"
          ],
          "name": "stdout"
        }
      ]
    },
    {
      "cell_type": "code",
      "metadata": {
        "colab_type": "code",
        "deletable": false,
        "id": "Rvreno9aSeo4",
        "nbgrader": {
          "checksum": "091a38d6b28f58e68e2c3c1de0745096",
          "grade": false,
          "grade_id": "cell-284fa421c7c60677",
          "locked": false,
          "schema_version": 1,
          "solution": true
        },
        "colab": {}
      },
      "source": [
        "def generateX_fx(N):\n",
        "    '''\n",
        "    Generate N random points in the range (0,1)\n",
        "    Input:\n",
        "        N: int\n",
        "    Outputs:\n",
        "        x: np vector of shape (N,)\n",
        "        y: np vector of shape (N,); y=f(x)\n",
        "    '''\n",
        "    # YOUR CODE HERE\n",
        "    x = np.linspace(0,1,N)\n",
        "    yd = []\n",
        "    for i in x:\n",
        "      yd.append(fx(i))\n",
        "    yd = np.asarray(yd)\n",
        "    return x, yd"
      ],
      "execution_count": null,
      "outputs": []
    },
    {
      "cell_type": "code",
      "metadata": {
        "colab_type": "code",
        "deletable": false,
        "editable": false,
        "id": "xJWPe3aYSeo9",
        "nbgrader": {
          "checksum": "cca62f585709b0bbb2cacae0123d922d",
          "grade": true,
          "grade_id": "cell-70c27081df964f24",
          "locked": true,
          "points": 2,
          "schema_version": 1,
          "solution": false
        },
        "colab": {
          "base_uri": "https://localhost:8080/",
          "height": 34
        },
        "outputId": "ab624121-4e41-4a95-cae5-8a5c156cf91c"
      },
      "source": [
        "'''Testing'''\n",
        "def test_generateX_fx():\n",
        "    x, yd = generateX_fx(20)\n",
        "    assert x.shape[0]==20\n",
        "    assert yd.shape[0]==20\n",
        "    print('Test passed', '\\U0001F44D')\n",
        "test_generateX_fx()"
      ],
      "execution_count": null,
      "outputs": [
        {
          "output_type": "stream",
          "text": [
            "Test passed 👍\n"
          ],
          "name": "stdout"
        }
      ]
    },
    {
      "cell_type": "markdown",
      "metadata": {
        "colab_type": "text",
        "id": "E_Q0TMndSepH"
      },
      "source": [
        "### Plotting"
      ]
    },
    {
      "cell_type": "code",
      "metadata": {
        "colab_type": "code",
        "id": "5oPRM3jISepJ",
        "colab": {
          "base_uri": "https://localhost:8080/",
          "height": 279
        },
        "outputId": "8e06c88a-67a6-4b35-a5fd-20cb64a4d1b6"
      },
      "source": [
        "def plotdata():\n",
        "    x, yd = generateX_fx(20)\n",
        "    import matplotlib.pyplot as plt\n",
        "    i = x.argsort()\n",
        "    plt.plot(x[i],yd[i])\n",
        "    plt.ylabel('f(x)')\n",
        "    plt.xlabel('x')\n",
        "plotdata()"
      ],
      "execution_count": null,
      "outputs": [
        {
          "output_type": "display_data",
          "data": {
            "image/png": "[encoded data removed]",
            "text/plain": [
              "<Figure size 432x288 with 1 Axes>"
            ]
          },
          "metadata": {
            "tags": [],
            "needs_background": "light"
          }
        }
      ]
    },
    {
      "cell_type": "markdown",
      "metadata": {
        "colab_type": "text",
        "id": "OeNg_-YiSepV"
      },
      "source": [
        "## Training\n",
        "We will now define a linear model to estimate the above function, and train it with all the data"
      ]
    },
    {
      "cell_type": "markdown",
      "metadata": {
        "colab_type": "text",
        "id": "Xun43bc1SepX"
      },
      "source": [
        "### Define model\n",
        "$y = \\sum_{d=0}^D w_d x^d$, here, $D$ is the degree of the model, say D=2 <br />\n",
        "\n",
        "In matrix representation: y = Aw <br/>"
      ]
    },
    {
      "cell_type": "code",
      "metadata": {
        "colab_type": "code",
        "deletable": false,
        "id": "FsiFYhvFSepb",
        "nbgrader": {
          "checksum": "43d662fc8a6834a180aa0c5297d820b0",
          "grade": false,
          "grade_id": "cell-61478073f3568175",
          "locked": false,
          "schema_version": 1,
          "solution": true
        },
        "colab": {}
      },
      "source": [
        "def createA(x, D):\n",
        "    '''\n",
        "    Create the matrix A with degree D\n",
        "    Input:\n",
        "        x: np vector of shape (N,)\n",
        "        D: degree of the model\n",
        "    Output:\n",
        "        A: np matrix of shape (N,D+1)\n",
        "    '''\n",
        "    # YOUR CODE HERE\n",
        "    A = []\n",
        "    for i in x:\n",
        "      inner_list = []\n",
        "      for j in range(D+1):\n",
        "        inner_list.append(i**j)\n",
        "      A.append(inner_list)\n",
        "    A = np.asarray(A)\n",
        "    return A"
      ],
      "execution_count": null,
      "outputs": []
    },
    {
      "cell_type": "code",
      "metadata": {
        "colab_type": "code",
        "deletable": false,
        "editable": false,
        "id": "2HawYUU2Sepo",
        "nbgrader": {
          "checksum": "97794d9da47d85684b54dfeb99936538",
          "grade": true,
          "grade_id": "cell-c1a05c3a2dc0aa06",
          "locked": true,
          "points": 4,
          "schema_version": 1,
          "solution": false
        },
        "colab": {
          "base_uri": "https://localhost:8080/",
          "height": 34
        },
        "outputId": "e3b4587d-9b91-46b7-84ad-befcfd741c39"
      },
      "source": [
        "'''Testing'''\n",
        "def test_createA():\n",
        "    x = np.array([1,2,3])\n",
        "    A = createA(x, 2)\n",
        "    assert A.shape==(3,3)\n",
        "    assert np.all(A[0,:]==1)\n",
        "    assert np.all(A==np.array([[1.0, 1.0, 1.0], [1.0, 2.0, 4.0], [1.0, 3.0, 9.0]]))\n",
        "    print('Test passed', '\\U0001F44D')\n",
        "test_createA()"
      ],
      "execution_count": null,
      "outputs": [
        {
          "output_type": "stream",
          "text": [
            "Test passed 👍\n"
          ],
          "name": "stdout"
        }
      ]
    },
    {
      "cell_type": "markdown",
      "metadata": {
        "colab_type": "text",
        "id": "C-fyoPm9Sepy"
      },
      "source": [
        "### Estimate Weights\n",
        "Estimate w from yd and A. Use the least square solution and min-norm solution you learnt in the video"
      ]
    },
    {
      "cell_type": "code",
      "metadata": {
        "colab_type": "code",
        "deletable": false,
        "id": "dwj8wG7dSepz",
        "nbgrader": {
          "checksum": "d35f9eb091158943c36dcb9baec40c0d",
          "grade": false,
          "grade_id": "cell-9bdf45f987ecf410",
          "locked": false,
          "schema_version": 1,
          "solution": true
        },
        "colab": {}
      },
      "source": [
        "def train_w(A, yd):\n",
        "    '''\n",
        "    Inputs:\n",
        "        A: np matrix of shape (N,D+1)\n",
        "        yd: np vector of shape (N,)\n",
        "    Output:\n",
        "        w: np vector of shape (D+1,)\n",
        "    '''\n",
        "    # YOUR CODE HERE\n",
        "    A = np.asarray(A)\n",
        "    yd = np.asarray(yd)\n",
        "    if (A.shape[0]>A.shape[1]):\n",
        "      # print(\"least square\")\n",
        "      w = np.linalg.inv(A.T.dot(A)).dot(A.T.dot(yd))\n",
        "    elif (A.shape[0]<A.shape[1]):\n",
        "      # print(\"min norm\")\n",
        "      w = A.T.dot(np.linalg.inv(A.dot(A.T)).dot(yd))\n",
        "    else:\n",
        "      # print(\"exact\")\n",
        "      w = np.linalg.inv(A).dot(yd)\n",
        "    return w"
      ],
      "execution_count": null,
      "outputs": []
    },
    {
      "cell_type": "code",
      "metadata": {
        "colab_type": "code",
        "deletable": false,
        "editable": false,
        "id": "JBVIi_wnSep7",
        "nbgrader": {
          "checksum": "58aeb1b36fb5bb3f79ae8a77f796fc4c",
          "grade": true,
          "grade_id": "cell-4fd1ee72464aa0d8",
          "locked": true,
          "points": 4,
          "schema_version": 1,
          "solution": false
        },
        "colab": {
          "base_uri": "https://localhost:8080/",
          "height": 34
        },
        "outputId": "9dab4390-66b7-414c-db19-8cbe8fc046c3"
      },
      "source": [
        "'''Testing'''\n",
        "def test_train_w():\n",
        "    A = np.array([[1.0, 1.0, 1.0], [1.0, 2.0, 4.0], [1.0, 3.0, 9.0]])\n",
        "    yd = np.array([1,2,3])\n",
        "    assert np.all(np.isclose(train_w(A, yd), np.array([0,1,0]), atol=.001))\n",
        "    yd = yd*yd\n",
        "    assert np.all(np.isclose(train_w(A, yd), np.array([0,0,1]), atol=.001))\n",
        "    print('Test passed', '\\U0001F44D')\n",
        "test_train_w()"
      ],
      "execution_count": null,
      "outputs": [
        {
          "output_type": "stream",
          "text": [
            "Test passed 👍\n"
          ],
          "name": "stdout"
        }
      ]
    },
    {
      "cell_type": "markdown",
      "metadata": {
        "colab_type": "text",
        "id": "c_hzperdSeqF"
      },
      "source": [
        "### Estimate y from the model, given x"
      ]
    },
    {
      "cell_type": "code",
      "metadata": {
        "colab_type": "code",
        "deletable": false,
        "id": "3kgewrd3SeqI",
        "nbgrader": {
          "checksum": "fedd759dfd0f0f7bd42f810fd67c06e7",
          "grade": false,
          "grade_id": "cell-18a403e9e2d75c54",
          "locked": false,
          "schema_version": 1,
          "solution": true
        },
        "colab": {}
      },
      "source": [
        "def predict_y(w, x):\n",
        "    '''\n",
        "    Inputs:\n",
        "        w: np vector of shape (D+1,)\n",
        "        x: np vector of shape (N,)\n",
        "    Outputs:\n",
        "        y: np vector of shape (N,); y=Aw\n",
        "    '''\n",
        "    # YOUR CODE HERE\n",
        "    y = createA(x,w.shape[0]-1).dot(w)\n",
        "    return y"
      ],
      "execution_count": null,
      "outputs": []
    },
    {
      "cell_type": "code",
      "metadata": {
        "colab_type": "code",
        "deletable": false,
        "editable": false,
        "id": "AWqmGV_6SeqR",
        "nbgrader": {
          "checksum": "d283dcd28dd28dc7dd81c7d85845d2cc",
          "grade": true,
          "grade_id": "cell-66e9156fdbab1ffe",
          "locked": true,
          "points": 3,
          "schema_version": 1,
          "solution": false
        },
        "colab": {
          "base_uri": "https://localhost:8080/",
          "height": 34
        },
        "outputId": "6eeb09dc-c6e8-4de8-b662-5c89703cf2fe"
      },
      "source": [
        "def test_predict_y():\n",
        "    w = np.array([1,2,3])\n",
        "    x = np.array([0.2,0.5,0.6])\n",
        "    y = predict_y(w, x)\n",
        "    assert np.all(np.isclose(y, np.array([1.52, 2.75, 3.28]), atol=0.001))\n",
        "    print('Test passed', '\\U0001F44D')\n",
        "test_predict_y()"
      ],
      "execution_count": null,
      "outputs": [
        {
          "output_type": "stream",
          "text": [
            "Test passed 👍\n"
          ],
          "name": "stdout"
        }
      ]
    },
    {
      "cell_type": "markdown",
      "metadata": {
        "colab_type": "text",
        "id": "Po93sQmUSeqY"
      },
      "source": [
        "### Estimate Error\n",
        "Find E as the mean squared error"
      ]
    },
    {
      "cell_type": "code",
      "metadata": {
        "colab_type": "code",
        "deletable": false,
        "id": "8ZoyyIsaSeqb",
        "nbgrader": {
          "checksum": "f4531cd0f5c776d35ac5bfb5927c2488",
          "grade": false,
          "grade_id": "cell-430f96298f1ea137",
          "locked": false,
          "schema_version": 1,
          "solution": true
        },
        "colab": {}
      },
      "source": [
        "def compute_mse(y, yd):\n",
        "    '''\n",
        "    Inputs:\n",
        "        y: np vector of shape (N,); y=Aw\n",
        "        yd: np vector of shape (N,); yd=f(x), ie., desired or true value\n",
        "    Output:\n",
        "        mse: mean squared error\n",
        "    '''\n",
        "    # YOUR CODE HERE\n",
        "    mse = np.mean((yd-y)**2)\n",
        "    return mse"
      ],
      "execution_count": null,
      "outputs": []
    },
    {
      "cell_type": "code",
      "metadata": {
        "colab_type": "code",
        "deletable": false,
        "editable": false,
        "id": "J6gNFt2wSeqj",
        "nbgrader": {
          "checksum": "61c51ed2e906b9e1eb66451cbd48e23a",
          "grade": true,
          "grade_id": "cell-2ce30fda249b5070",
          "locked": true,
          "points": 2,
          "schema_version": 1,
          "solution": false
        },
        "colab": {
          "base_uri": "https://localhost:8080/",
          "height": 34
        },
        "outputId": "837d31ab-a100-4380-e8a0-bc753a6ed0d8"
      },
      "source": [
        "'''Testing'''\n",
        "def test_compute_mse():\n",
        "    yd = np.array([1,0,1,0])\n",
        "    y = np.array([.8,.2,.8,.2])\n",
        "    assert np.isclose(compute_mse(y, yd), 0.04, atol=0.003)\n",
        "    print('Test passed', '\\U0001F44D')\n",
        "test_compute_mse()"
      ],
      "execution_count": null,
      "outputs": [
        {
          "output_type": "stream",
          "text": [
            "Test passed 👍\n"
          ],
          "name": "stdout"
        }
      ]
    },
    {
      "cell_type": "markdown",
      "metadata": {
        "colab_type": "text",
        "id": "mqRwu1uTSeqr"
      },
      "source": [
        "### Plotting\n"
      ]
    },
    {
      "cell_type": "code",
      "metadata": {
        "colab_type": "code",
        "id": "RVOZzb_xSeqs",
        "colab": {}
      },
      "source": [
        "def plotModel(x, y, yd):\n",
        "    import matplotlib.pyplot as plt\n",
        "    i = x.argsort()\n",
        "    plt.figure()\n",
        "    plt.plot(x[i],y[i],'g-o')\n",
        "    plt.plot(x[i],yd[i],'r-o')\n",
        "    plt.ylabel('f(x)')\n",
        "    plt.xlabel('x')\n",
        "    plt.legend(['estimated', 'true'])"
      ],
      "execution_count": null,
      "outputs": []
    },
    {
      "cell_type": "markdown",
      "metadata": {
        "colab_type": "text",
        "id": "LS-EDxF6SerA"
      },
      "source": [
        "## Could you test it on new (test) points?\n",
        "Using the above functions:\n",
        "- Generate 30 test points\n",
        "- Estimate y using the linear model w you found above. Do NOT train again\n",
        "- Compare y with yd to find the mean-squared error <br />"
      ]
    },
    {
      "cell_type": "code",
      "metadata": {
        "id": "EsQH1nxZM_VB",
        "colab_type": "code",
        "colab": {}
      },
      "source": [
        "def trainModel(Ntrain, D):\n",
        "  '''\n",
        "  Inputs:\n",
        "      Ntrain: number of train samples to be generated\n",
        "      D: Degree of the model\n",
        "  Outputs:\n",
        "      x: np array of size (N,)\n",
        "      y: np array of size (N,)\n",
        "      yd: np array of size (N,)\n",
        "      w: np array of size (D+1,)\n",
        "      mse: scalar float\n",
        "  '''\n",
        "  x, yd = generateX_fx(Ntrain)\n",
        "  A = createA(x, D)\n",
        "  w = train_w(A, yd)\n",
        "  y = predict_y(w, x)\n",
        "  mse = compute_mse(y, yd)\n",
        "  return x, y, yd, w, mse"
      ],
      "execution_count": null,
      "outputs": []
    },
    {
      "cell_type": "code",
      "metadata": {
        "colab_type": "code",
        "deletable": false,
        "id": "HjfX98chSerD",
        "nbgrader": {
          "checksum": "8e2c57539832dcdc5a240bb5fb5b1521",
          "grade": false,
          "grade_id": "cell-4a89399915bf1752",
          "locked": false,
          "schema_version": 1,
          "solution": true
        },
        "colab": {}
      },
      "source": [
        "def testModel(Ntest, w):\n",
        "    '''\n",
        "    Inputs:\n",
        "        Ntest: number of test samples to be generated\n",
        "        w: np array of size (D+1,)\n",
        "    Outputs:\n",
        "        x: np array of size (N,)\n",
        "        y: np array of size (N,)\n",
        "        yd: np array of size (N,)\n",
        "        mse: scalar float\n",
        "    '''\n",
        "    # YOUR CODE HERE\n",
        "    x, yd = generateX_fx(Ntest)\n",
        "    y = predict_y(w,x)\n",
        "    mse = compute_mse(y, yd)\n",
        "    return x, y, yd, mse"
      ],
      "execution_count": null,
      "outputs": []
    },
    {
      "cell_type": "code",
      "metadata": {
        "colab_type": "code",
        "deletable": false,
        "editable": false,
        "id": "6tVE9b7SSerI",
        "nbgrader": {
          "checksum": "9f556d9fffe8e63bf7c3832fe47a5109",
          "grade": true,
          "grade_id": "cell-7b7b3892f3df2282",
          "locked": true,
          "points": 4,
          "schema_version": 1,
          "solution": false
        },
        "colab": {
          "base_uri": "https://localhost:8080/",
          "height": 643
        },
        "outputId": "25311b02-5830-4e3c-d71a-f7331ba4a59f"
      },
      "source": [
        "'''Testing'''\n",
        "def test_testModel():\n",
        "    N = 30\n",
        "    D = 10\n",
        "    x, y, yd, w, mse = trainModel(N,D)\n",
        "    assert x.shape[0]==N\n",
        "    assert w.shape[0]==D+1\n",
        "    print(w)\n",
        "    print('MSE on train data = ', mse)\n",
        "    plotModel(x,y,yd)\n",
        "    Ntest = 50\n",
        "    x, y, yd, mse = testModel(Ntest,w)\n",
        "    print('MSE on test data = ', mse)\n",
        "    plotModel(x,y,yd)\n",
        "    print('Test passed', '\\U0001F44D')\n",
        "test_testModel()"
      ],
      "execution_count": null,
      "outputs": [
        {
          "output_type": "stream",
          "text": [
            "[ 1.01768936e-04  9.99174386e-01 -5.11264801e-03 -1.43112183e-01\n",
            " -3.35083008e-02  3.41796875e-02 -1.36718750e-02  4.88281250e-03\n",
            " -2.44140625e-03  4.88281250e-04 -6.10351562e-05]\n",
            "MSE on train data =  2.6264113150621562e-08\n",
            "MSE on test data =  2.3934964504050987e-08\n",
            "Test passed 👍\n"
          ],
          "name": "stdout"
        },
        {
          "output_type": "display_data",
          "data": {
            "image/png": "[encoded data removed]",
            "text/plain": [
              "<Figure size 432x288 with 1 Axes>"
            ]
          },
          "metadata": {
            "tags": [],
            "needs_background": "light"
          }
        },
        {
          "output_type": "display_data",
          "data": {
            "image/png": "[encoded data removed]",
            "text/plain": [
              "<Figure size 432x288 with 1 Axes>"
            ]
          },
          "metadata": {
            "tags": [],
            "needs_background": "light"
          }
        }
      ]
    },
    {
      "cell_type": "markdown",
      "metadata": {
        "colab_type": "text",
        "id": "Go36dp6wSerQ"
      },
      "source": [
        "# ADVANCED(Optional)\n",
        "\n",
        "## Does the performance improve with increasing the number of training points?\n",
        "- Repeat the training with different no. of samples. Take N=3, 5, 10, 30; and D=5\n",
        "- Plot training error vs N\n",
        "- Plot test error vs N"
      ]
    },
    {
      "cell_type": "code",
      "metadata": {
        "colab_type": "code",
        "id": "3iURU2RvSerR",
        "colab": {
          "base_uri": "https://localhost:8080/",
          "height": 367
        },
        "outputId": "fed78e62-e0d6-481d-d679-9837048e83ff"
      },
      "source": [
        "N = [3,5,10,30]\n",
        "D = 5\n",
        "train_mse_list = []\n",
        "test_mse_list = []\n",
        "for i in N:\n",
        "  _, _, _, w, train_mse = trainModel(i, D)\n",
        "  _, _, _, test_mse = testModel(i, w)\n",
        "  # print(f\"N: {i}, train_mse: {train_mse}, test_mse: {test_mse}\")\n",
        "  train_mse_list.append(train_mse)\n",
        "  test_mse_list.append(test_mse)\n",
        "\n",
        "import matplotlib.pyplot as plt\n",
        "\n",
        "plt.figure(figsize=(10,5))\n",
        "plt.subplot(121)\n",
        "plt.plot(N[:],train_mse_list[:], 'g-o')\n",
        "plt.title(\"TRAINING\")\n",
        "plt.ylabel('train_error')\n",
        "plt.xlabel('N')\n",
        "plt.subplot(122)\n",
        "plt.plot(N[:],test_mse_list[:], 'r-o')\n",
        "plt.title(\"TESTING\")\n",
        "plt.ylabel('test_error')\n",
        "plt.xlabel('N')"
      ],
      "execution_count": null,
      "outputs": [
        {
          "output_type": "execute_result",
          "data": {
            "text/plain": [
              "Text(0.5, 0, 'N')"
            ]
          },
          "metadata": {
            "tags": []
          },
          "execution_count": 87
        },
        {
          "output_type": "display_data",
          "data": {
            "image/png": "[encoded data removed]",
            "text/plain": [
              "<Figure size 720x360 with 2 Axes>"
            ]
          },
          "metadata": {
            "tags": [],
            "needs_background": "light"
          }
        }
      ]
    },
    {
      "cell_type": "markdown",
      "metadata": {
        "colab_type": "text",
        "id": "ufAvYDV_SerW"
      },
      "source": [
        "## Does the performance improve with increasing the degree D of the model?\n",
        "- Repeat the training with different degree models. Take D=0, 1, 2, 4, 7, 12, and N=10\n",
        "- Plot training error vs D\n",
        "- Plot test error vs D\n",
        "- Plot y vs x for each D"
      ]
    },
    {
      "cell_type": "code",
      "metadata": {
        "colab_type": "code",
        "id": "WB1Zj__RSerX",
        "colab": {
          "base_uri": "https://localhost:8080/",
          "height": 469
        },
        "outputId": "c66186a3-107b-43c8-d72a-176724926195"
      },
      "source": [
        "N = 10\n",
        "D = [0,1,2,4,7,12]\n",
        "train_mse_list = []\n",
        "test_mse_list = []\n",
        "for i in D:\n",
        "  _, _, _, w, train_mse = trainModel(N, i)\n",
        "  _, _, _, test_mse = testModel(N, w)\n",
        "  # print(f\"D: {i}, train_mse: {train_mse}, test_mse: {test_mse}\")\n",
        "  train_mse_list.append(train_mse)\n",
        "  test_mse_list.append(test_mse)\n",
        "\n",
        "import matplotlib.pyplot as plt\n",
        "\n",
        "plt.figure(figsize=(10,5))\n",
        "plt.subplot(121)\n",
        "plt.plot(D[:],train_mse_list[:], 'g-o')\n",
        "plt.title(\"TRAINING\")\n",
        "plt.ylabel('train_error')\n",
        "plt.xlabel('D')\n",
        "plt.subplot(122)\n",
        "plt.plot(D[:],test_mse_list[:], 'r-o')\n",
        "plt.title(\"TESTING\")\n",
        "plt.ylabel('test_error')\n",
        "plt.xlabel('D')"
      ],
      "execution_count": null,
      "outputs": [
        {
          "output_type": "stream",
          "text": [
            "D: 0, train_mse: 0.07428732082291341, test_mse: 0.07428732082291341\n",
            "D: 1, train_mse: 0.0004553420583144082, test_mse: 0.0004553420583144082\n",
            "D: 2, train_mse: 1.2058044219358266e-05, test_mse: 1.2058044219358266e-05\n",
            "D: 4, train_mse: 1.1727996992205904e-10, test_mse: 1.1727996992205904e-10\n",
            "D: 7, train_mse: 1.6529916570775123e-14, test_mse: 1.6529916570775123e-14\n",
            "D: 12, train_mse: 4.1529913485065276e-11, test_mse: 4.1529913485065276e-11\n"
          ],
          "name": "stdout"
        },
        {
          "output_type": "execute_result",
          "data": {
            "text/plain": [
              "Text(0.5, 0, 'D')"
            ]
          },
          "metadata": {
            "tags": []
          },
          "execution_count": 89
        },
        {
          "output_type": "display_data",
          "data": {
            "image/png": "[encoded data removed]",
            "text/plain": [
              "<Figure size 720x360 with 2 Axes>"
            ]
          },
          "metadata": {
            "tags": [],
            "needs_background": "light"
          }
        }
      ]
    }
  ]
}