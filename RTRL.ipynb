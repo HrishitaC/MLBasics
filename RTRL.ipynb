{
  "nbformat": 4,
  "nbformat_minor": 0,
  "metadata": {
    "colab": {
      "name": "RTRL.ipynb",
      "provenance": [],
      "collapsed_sections": []
    },
    "language_info": {
      "codemirror_mode": {
        "name": "ipython",
        "version": 3
      },
      "file_extension": ".py",
      "mimetype": "text/x-python",
      "name": "python",
      "nbconvert_exporter": "python",
      "pygments_lexer": "ipython3",
      "version": "3.6.8"
    },
    "kernelspec": {
      "display_name": "Python 3",
      "language": "python",
      "name": "python3"
    }
  },
  "cells": [
    {
      "cell_type": "code",
      "metadata": {
        "colab_type": "code",
        "id": "1v5uaG1y8Xej",
        "colab": {}
      },
      "source": [
        "import numpy as np"
      ],
      "execution_count": null,
      "outputs": []
    },
    {
      "cell_type": "markdown",
      "metadata": {
        "colab_type": "text",
        "id": "wbnRJwqF7fdG"
      },
      "source": [
        "### Generate Data\n",
        "Create a function that randomly gives either +1 or -1 as input"
      ]
    },
    {
      "cell_type": "code",
      "metadata": {
        "colab_type": "code",
        "deletable": false,
        "id": "vsaoR-wSmPJO",
        "nbgrader": {
          "checksum": "1651ae8afcc6dcc88c858e6296ccd4bc",
          "grade": false,
          "grade_id": "cell-cc93df67671177ac",
          "locked": false,
          "schema_version": 1,
          "solution": true
        },
        "colab": {}
      },
      "source": [
        "def create_u():\n",
        "  \"\"\"\n",
        "  Inputs:\n",
        "    None\n",
        "  Outputs:\n",
        "    u: +1 or -1 randomly generated\n",
        "  \"\"\"\n",
        "  # YOUR CODE HERE\n",
        "  data = [1, -1]\n",
        "  np.random.shuffle(data)\n",
        "  u = data[0]\n",
        "  return u"
      ],
      "execution_count": null,
      "outputs": []
    },
    {
      "cell_type": "markdown",
      "metadata": {
        "colab_type": "text",
        "id": "Os7QHguQ_5PN"
      },
      "source": [
        "#### Desired data\n",
        "$y(t+1) = ay(t) + by(t-1) + cu(t) $"
      ]
    },
    {
      "cell_type": "code",
      "metadata": {
        "colab_type": "code",
        "deletable": false,
        "editable": false,
        "id": "IbW2xPZ08Kqw",
        "nbgrader": {
          "checksum": "d30a00b6c2d041c62d5161f85d0aaeb9",
          "grade": true,
          "grade_id": "cell-871610e2e68d8f23",
          "locked": true,
          "points": 0,
          "schema_version": 1,
          "solution": false
        },
        "colab": {}
      },
      "source": [
        "\"\"\"Test for create_u\"\"\"\n",
        "u = create_u()\n",
        "assert u==1 or u== -1\n"
      ],
      "execution_count": null,
      "outputs": []
    },
    {
      "cell_type": "code",
      "metadata": {
        "colab_type": "code",
        "deletable": false,
        "id": "JD2mDTRd_Xoo",
        "nbgrader": {
          "checksum": "1716396c6b561e0d8a41450db7cc3de5",
          "grade": false,
          "grade_id": "cell-84733d6e73b7098a",
          "locked": false,
          "schema_version": 1,
          "solution": true
        },
        "colab": {}
      },
      "source": [
        "def generate_data(timesteps, a, b, c):\n",
        "  \"\"\"\n",
        "  Inputs:\n",
        "    timesteps: int, number of timesteps of data\n",
        "  Outputs:\n",
        "    u: numpy array with each element +1 or -1 of shape (timesteps, )\n",
        "    yd: numpy array with each element computed using above equation of shape (timesteps, )\n",
        "  \"\"\"\n",
        "  # YOUR CODE HERE\n",
        "  u = np.array([create_u() for i in range(timesteps)])\n",
        "  yd = np.zeros((timesteps,), dtype=float)\n",
        "  for i in range(2, timesteps):\n",
        "    yd[i] = a*yd[i-1] + b*yd[i-2] + c*u[i-1]\n",
        "  return u, yd\n"
      ],
      "execution_count": null,
      "outputs": []
    },
    {
      "cell_type": "code",
      "metadata": {
        "colab_type": "code",
        "id": "gKLXgraGBL7y",
        "colab": {}
      },
      "source": [
        "### Generate u, yd\n",
        "u, yd = generate_data(10000, 1.1, -0.3, 0.5)"
      ],
      "execution_count": null,
      "outputs": []
    },
    {
      "cell_type": "markdown",
      "metadata": {
        "colab_type": "text",
        "id": "34oI6R4w9w8n"
      },
      "source": [
        "### Define the model that we are going to train\n",
        "$y(t+1) = w_0y(t) + w_1y(t-1) + w_2u(t)$"
      ]
    },
    {
      "cell_type": "code",
      "metadata": {
        "colab_type": "code",
        "deletable": false,
        "id": "FSyKKg5cnEks",
        "nbgrader": {
          "checksum": "f8d5b6a3070ea3e10b4ff6e7f803d087",
          "grade": false,
          "grade_id": "cell-86b766d4317dbbdb",
          "locked": false,
          "schema_version": 1,
          "solution": true
        },
        "colab": {}
      },
      "source": [
        "def get_y_tplus1(w, yt, ytminus1, u):\n",
        "  \"\"\"\n",
        "  Inputs:\n",
        "    w: numpy array of weights of shape (3, )\n",
        "    yt: float, y value at time t\n",
        "    ytminus1: float, y value at time t - 1\n",
        "    u: input at time t\n",
        "  Outputs:\n",
        "    y_tplus1: float, y at t+1\n",
        "  \"\"\"\n",
        "  # YOUR CODE HERE\n",
        "  y_tplus1 = w[0]*yt + w[1]*ytminus1 + u\n",
        "  return y_tplus1"
      ],
      "execution_count": null,
      "outputs": []
    },
    {
      "cell_type": "markdown",
      "metadata": {
        "colab_type": "text",
        "id": "2oDbB5_vC0EK"
      },
      "source": [
        "### Forward propagation of gradients\n",
        "We propagate the gradients forwards using the following recurrence relations\n",
        "$$\n",
        "\\frac{\\partial y(t+1)}{\\partial w_0} = w_0\\frac{\\partial y(t)}{\\partial w_0} + y(t) + w_1\\frac{\\partial y(t-1)}{\\partial w_0}\n",
        "$$\n",
        "<br><br>\n",
        "$$\n",
        "\\frac{\\partial y(t+1)}{\\partial w_1} = w_0\\frac{\\partial y(t)}{\\partial w_1} + y(t-1) + w_1\\frac{\\partial y(t-1)}{\\partial w_1} \\\\\n",
        "$$\n",
        "<br><br>\n",
        "$$\n",
        "\\frac{\\partial y(t+1)}{\\partial w_2} = w_0\\frac{\\partial y(t)}{\\partial w_2} +  w_1\\frac{\\partial y(t-1)}{\\partial w_2} + u(t) \n",
        "$$\n",
        "<br><br>\n",
        "pwj1 is a matrix $\\frac{\\partial y(t)}{\\partial w} =\n",
        "[\\frac{\\partial y(t)}{\\partial w_0}, \\frac{\\partial y(t)}{\\partial w_1}, \\frac{\\partial y(t)}{\\partial w_2}]$\n",
        "<br><br>\n",
        "pwj0 is a matrix $\\frac{\\partial y(t-1)}{\\partial w} =\n",
        "[\\frac{\\partial y(t-1)}{\\partial w_0}, \\frac{\\partial y(t-1)}{\\partial w_1}, \\frac{\\partial y(t-1)}{\\partial w_2}]$\n",
        "<br><br>\n",
        "pwj2 is a matrix $\\frac{\\partial y(t+1)}{\\partial w} =\n",
        "[\\frac{\\partial y(t+1)}{\\partial w_0}, \\frac{\\partial y(t+1)}{\\partial w_1}, \\frac{\\partial y(t+1)}{\\partial w_2}]$"
      ]
    },
    {
      "cell_type": "code",
      "metadata": {
        "colab_type": "code",
        "deletable": false,
        "id": "zbFBIlifn5lX",
        "nbgrader": {
          "checksum": "0280231a78fcf674b6208e66820bd7f0",
          "grade": false,
          "grade_id": "cell-7390ab5cf7b116bb",
          "locked": false,
          "schema_version": 1,
          "solution": true
        },
        "colab": {}
      },
      "source": [
        "def forward_prop_gradients(w, yt, ytminus1, u, pwj1, pwj0):\n",
        "  \"\"\"\n",
        "  Inputs:\n",
        "    w: numpy array of weights [w0, w1, w2]\n",
        "    yt: float, y value at time t\n",
        "    ytminus1: float, y value at time t - 1\n",
        "    u: input at time t\n",
        "    pwj1: numpy array of shape (3, ) as described above\n",
        "    pwj0: numpy array of shape (3, ) as described above\n",
        "  Outputs:\n",
        "    pwj2: numpy array of shape (3, ) as described above\n",
        "  \"\"\"  \n",
        "  # YOUR CODE HERE\n",
        "  term1 = w[0]*pwj1[0] + w[1]*pwj0[0] + yt\n",
        "  term2 = w[0]*pwj1[1] + w[1]*pwj0[1] + ytminus1\n",
        "  term3 = w[0]*pwj1[2] + w[1]*pwj0[2] + u\n",
        "  pwj2 = np.array([term1, term2, term3])\n",
        "  return pwj2"
      ],
      "execution_count": null,
      "outputs": []
    },
    {
      "cell_type": "markdown",
      "metadata": {
        "colab_type": "text",
        "id": "FH0wlubaHPd9"
      },
      "source": [
        "### Weight update - Gradient descent\n",
        "$E = \\frac{1}{2}(y_d - y)^2$ <br>\n",
        "$w_{new} = w_{old} - \\eta\\frac{\\partial E}{\\partial w} = w_{old} - \\eta(y_d - y)\\cdot pwj_2$ "
      ]
    },
    {
      "cell_type": "code",
      "metadata": {
        "colab_type": "code",
        "deletable": false,
        "id": "V-yaQxkup6Nw",
        "nbgrader": {
          "checksum": "8f5ccdf85947992875198637b9130f32",
          "grade": false,
          "grade_id": "cell-e535b5f3a7da86e5",
          "locked": false,
          "schema_version": 1,
          "solution": true
        },
        "colab": {}
      },
      "source": [
        "def update_w(w, eta, yd, y, pwj2):\n",
        "  \"\"\"\n",
        "  Inputs:\n",
        "    w: numpy array of weights [w0, w1, w2]\n",
        "    eta: float, learning rate\n",
        "    yd: scalar(float), desired value of y at time t+1\n",
        "    y: scalar(float), predicted value of y at time t+1\n",
        "    pwj2: numpy array of shape(3,) obtained from forward_prop_weights\n",
        "  Outputs:\n",
        "    w_updated: numpy array of shape(3, ), updated weights\n",
        "  \"\"\"\n",
        "  # YOUR CODE HERE\n",
        "  w_updated = w - eta*(yd-y)*pwj2\n",
        "  return w_updated"
      ],
      "execution_count": null,
      "outputs": []
    },
    {
      "cell_type": "markdown",
      "metadata": {
        "colab_type": "text",
        "id": "AyZmxCP3KQlR"
      },
      "source": [
        "### Cost function (error)\n",
        "$E = \\frac{1}{2}(y_d - y)^2$ <br>\n"
      ]
    },
    {
      "cell_type": "code",
      "metadata": {
        "colab_type": "code",
        "deletable": false,
        "id": "xgd4SRv5qhvW",
        "nbgrader": {
          "checksum": "82686c32385a0612268e17b443c61763",
          "grade": false,
          "grade_id": "cell-9584b422dc13f9be",
          "locked": false,
          "schema_version": 1,
          "solution": true
        },
        "colab": {}
      },
      "source": [
        "def err(yd, y):\n",
        "  \"\"\"\n",
        "  Inputs:\n",
        "    yd: scalar(float), desired value of y at time t+1\n",
        "    y: scalar(float), predicted value of y at time t+1\n",
        "  Outputs:\n",
        "    E: scalar(float), error as described above \n",
        "  \"\"\"\n",
        "  # YOUR CODE HERE\n",
        "  E = 0.5*((yd-y)**2)\n",
        "  return E"
      ],
      "execution_count": null,
      "outputs": []
    },
    {
      "cell_type": "markdown",
      "metadata": {
        "colab_type": "text",
        "id": "rxyXbrZKLIct"
      },
      "source": [
        "### Apply RTRL"
      ]
    },
    {
      "cell_type": "code",
      "metadata": {
        "colab_type": "code",
        "deletable": false,
        "id": "TFmXL1PZkXPp",
        "nbgrader": {
          "checksum": "89fc666458d91974eab8045c9e4e29f2",
          "grade": false,
          "grade_id": "cell-b8301a978ae6ca0f",
          "locked": false,
          "schema_version": 1,
          "solution": true
        },
        "colab": {}
      },
      "source": [
        "def RTRL(yd, u, eta, timesteps):\n",
        "  \"\"\"\n",
        "  Inputs:\n",
        "    yd: numpy array of shape(timesteps,) \n",
        "    u: Inputs used to generate yd\n",
        "    eta: scalar(float), learning rate\n",
        "    timesteps: int, number of timesteps\n",
        "  Outputs:\n",
        "    west: numpy array of shape(timesteps,3), keeps track of all the updated weights over time\n",
        "    error: numpy array of shape(timesteps,), keeps track of error (as obtained from function err()) over time\n",
        "  \"\"\"\n",
        "  # YOUR CODE HERE\n",
        "  west = []\n",
        "  error = []\n",
        "\n",
        "  y_pred = np.zeros((timesteps,), dtype=float)\n",
        "  error = np.zeros((timesteps,), dtype=float)\n",
        "  west = np.zeros((timesteps, 3), dtype=float)\n",
        "\n",
        "  #t=0\n",
        "  w = (2 * np.random.random((3,)) - 1) * 0.01/2\n",
        "  pwj0 = np.zeros((3,))\n",
        "  pwj1 = np.zeros((3,))\n",
        "  west[0] = w\n",
        "  error[0] = err(yd[0], y_pred[0])\n",
        "\n",
        "  #t=1\n",
        "\n",
        "  ##weight updation\n",
        "  pwj2 = forward_prop_gradients(w, yd[0], 0, u[0], pwj1, pwj0)\n",
        "  pwj0 = pwj1\n",
        "  pwj1=pwj2\n",
        "\n",
        "  w = update_w(w, eta, yd[1], y_pred[1], pwj2)\n",
        "  west[1] = w\n",
        "\n",
        "  ##prediction\n",
        "  y_pred[1] = get_y_tplus1(w, yd[0], 0, u[0])\n",
        "  error[1] = err(yd[1], y_pred[1])\n",
        "\n",
        "  for i in range(2, timesteps):\n",
        "    #weight updation\n",
        "    pwj2 = forward_prop_gradients(w, yd[i-1], yd[i-2], u[i-1],pwj1,pwj0)\n",
        "    pwj0 = pwj1\n",
        "    pwj1 = pwj2\n",
        "\n",
        "    w = update_w(w, eta, yd[i], y_pred[i], pwj2)\n",
        "    west[i] = w\n",
        "\n",
        "    #prediction\n",
        "    y_pred[i] = get_y_tplus1(w,yd[i-1], yd[i-2], u[i-1])\n",
        "    E = err(yd[i],y_pred[i])\n",
        "    error[i] = E\n",
        "\n",
        "  print(y_pred[:5:-1])\n",
        "  print(yd[:5:-1])\n",
        "  return west, error\n",
        "   "
      ],
      "execution_count": null,
      "outputs": []
    },
    {
      "cell_type": "code",
      "metadata": {
        "colab_type": "code",
        "id": "SYwGeHqirLop",
        "colab": {}
      },
      "source": [
        "def plot_w(west):\n",
        "  plt.plot(west[:,0])\n",
        "  plt.show()\n",
        "  plt.plot(west[:,1])\n",
        "  plt.show()\n",
        "  plt.plot(west[:,2])\n",
        "  plt.show()"
      ],
      "execution_count": null,
      "outputs": []
    },
    {
      "cell_type": "code",
      "metadata": {
        "colab_type": "code",
        "id": "9dbtDLierWhh",
        "colab": {}
      },
      "source": [
        "def plot_err(error):\n",
        "  plt.plot(error)\n",
        "  plt.show()"
      ],
      "execution_count": null,
      "outputs": []
    },
    {
      "cell_type": "code",
      "metadata": {
        "colab_type": "code",
        "id": "SPHeNdBrcR4s",
        "colab": {
          "base_uri": "https://localhost:8080/",
          "height": 1000
        },
        "outputId": "b0e060f9-d575-49c6-db8b-4e4390c0adf9"
      },
      "source": [
        "import numpy as np\n",
        "import matplotlib.pyplot as plt\n",
        "\n",
        "eta = 0.01\n",
        "iterations = 100\n",
        "\n",
        "west, error = RTRL(yd, u, eta, iterations)\n",
        "\n",
        "plot_w(west)\n",
        "# print(west[-1])\n",
        "plot_err(error)\n",
        "# print(error[-1])"
      ],
      "execution_count": null,
      "outputs": [
        {
          "output_type": "stream",
          "text": [
            "[ 5.64314607e-01  1.62048267e+00  2.67974917e+00  3.06519935e+00\n",
            "  7.58360012e-01  6.17657124e-01  1.14753949e+00  3.66993208e+00\n",
            "  1.49799395e+00  1.23674625e+00  9.23224152e-01  5.53932580e-01\n",
            "  1.26827780e-01 -3.44143931e-01 -7.58389367e-01 -8.06877956e-01\n",
            "  1.06620609e+00 -1.56163116e+00 -1.84323361e+00 -4.86697259e-02\n",
            " -2.18681385e+00  2.72584547e-01  8.26513119e-01  1.36527303e+00\n",
            "  1.56567882e+00 -2.98279212e-01  1.83010640e+00 -4.31026619e-01\n",
            " -3.37581918e-01  1.69050306e+00 -8.08339648e-01 -1.29285165e+00\n",
            " -1.43580570e+00  5.21816459e-01 -1.43761503e+00  1.11932173e+00\n",
            "  1.63402246e+00  1.68083487e+00 -7.58942261e-01 -1.12614452e+00\n",
            " -1.03517490e+00  1.41105530e+00  1.40843680e+00 -9.90673420e-01\n",
            " -1.10308005e+00  6.93366832e-01 -1.88088125e+00 -1.99196223e+00\n",
            "  4.15417178e-01  9.01859848e-01  1.37162648e+00  1.54278309e+00\n",
            " -3.36366941e-01  1.69829485e+00 -7.08774710e-01 -1.11440210e+00\n",
            " -1.28204441e+00  4.19130077e-01 -2.25274867e+00 -2.56565933e+00\n",
            " -4.35186910e-01 -2.20780998e-01  3.15205954e-03  2.31448157e-01\n",
            "  4.53355177e-01  6.52038021e-01  8.10123255e-01  9.21002767e-01\n",
            "  9.89519175e-01  9.91729788e-01 -1.02040713e+00  9.76305696e-01\n",
            " -1.04355694e+00  9.44955556e-01 -1.08202161e+00  9.07861833e-01\n",
            " -1.09272046e+00  9.68612215e-01  1.01423370e+00  1.00682260e+00\n",
            " -1.04507606e+00 -1.04970432e+00  9.93868719e-01  9.93590501e-01\n",
            " -1.01256374e+00  9.83370600e-01 -1.02831592e+00  9.61821646e-01\n",
            " -1.05544652e+00  9.33869970e-01 -1.06717894e+00  9.61997702e-01\n",
            "  9.71866779e-01 -1.02236394e+00]\n",
            "[-0.90017588 -0.73551125 -1.36295497 ...  1.2172995   0.817895\n",
            "  0.60795   ]\n"
          ],
          "name": "stdout"
        },
        {
          "output_type": "display_data",
          "data": {
            "image/png": "[encoded data removed]",
            "text/plain": [
              "<Figure size 432x288 with 1 Axes>"
            ]
          },
          "metadata": {
            "tags": [],
            "needs_background": "light"
          }
        },
        {
          "output_type": "display_data",
          "data": {
            "image/png": "[encoded data removed]",
            "text/plain": [
              "<Figure size 432x288 with 1 Axes>"
            ]
          },
          "metadata": {
            "tags": [],
            "needs_background": "light"
          }
        },
        {
          "output_type": "display_data",
          "data": {
            "image/png": "[encoded data removed]",
            "text/plain": [
              "<Figure size 432x288 with 1 Axes>"
            ]
          },
          "metadata": {
            "tags": [],
            "needs_background": "light"
          }
        },
        {
          "output_type": "display_data",
          "data": {
            "image/png": "[encoded data removed]",
            "text/plain": [
              "<Figure size 432x288 with 1 Axes>"
            ]
          },
          "metadata": {
            "tags": [],
            "needs_background": "light"
          }
        }
      ]
    },
    {
      "cell_type": "code",
      "metadata": {
        "id": "tyRKIKEWVLvG",
        "colab_type": "code",
        "colab": {}
      },
      "source": [
        ""
      ],
      "execution_count": null,
      "outputs": []
    }
  ]
}